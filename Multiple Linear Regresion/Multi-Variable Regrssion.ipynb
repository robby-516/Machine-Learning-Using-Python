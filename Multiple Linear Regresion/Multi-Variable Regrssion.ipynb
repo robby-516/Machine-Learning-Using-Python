{
 "cells": [
  {
   "cell_type": "markdown",
   "id": "ba09486e-ba71-450a-bc9a-4403302bcd74",
   "metadata": {},
   "source": [
    "## Multi-Variable Linear Regression"
   ]
  },
  {
   "cell_type": "code",
   "execution_count": 27,
   "id": "e7563ccf-04c8-4619-be26-d611be8564b2",
   "metadata": {},
   "outputs": [
    {
     "name": "stdout",
     "output_type": "stream",
     "text": [
      "\n",
      "Model Summary:\n",
      "Intercept: 486676.47286567464\n",
      "Coefficients: [ 2.37160541e+02  1.93254511e+04  1.06465203e+06  4.01395392e+05\n",
      "  3.68759182e+05  3.80783834e+05  3.02838229e+05  8.84538857e+05\n",
      "  8.51495025e+05  2.59745376e+05  5.28750146e+05 -2.05653727e+05]\n",
      "\n",
      "Mean Squared Error (MSE): 1699319415288.2285\n",
      "\n",
      "Prediction for new data point [[7420    4    2    3    1    0    0    0    1    2    1    0]] is : 7925694.83\n"
     ]
    }
   ],
   "source": [
    "# Import necessary libraries\n",
    "import pandas as pd\n",
    "import numpy as np\n",
    "import matplotlib.pyplot as plt\n",
    "from sklearn.metrics import mean_squared_error\n",
    "from sklearn.linear_model import LinearRegression\n",
    "from sklearn.model_selection import train_test_split\n",
    "from sklearn.preprocessing import LabelEncoder\n",
    "\n",
    "# Load the dataset from a CSV file\n",
    "df = pd.read_csv('Housing.csv')\n",
    "\n",
    "# Initialize the LabelEncoder\n",
    "le = LabelEncoder()\n",
    "\n",
    "# List of columns to be encoded\n",
    "col_encode = ['mainroad', 'guestroom', 'basement', 'hotwaterheating', 'airconditioning', 'prefarea', 'furnishingstatus']\n",
    "\n",
    "# Encode each specified column with LabelEncoder\n",
    "for col in col_encode:\n",
    "    df[col] = le.fit_transform(df[col])\n",
    "\n",
    "# Split the dataset into features (X) and target (y)\n",
    "x = df.iloc[:, 1:]  # Features (all columns except the first one)\n",
    "y = df.iloc[:, 0]   # Target (the first column)\n",
    "\n",
    "# Split the data into training and testing sets\n",
    "x_train, x_test, y_train, y_test = train_test_split(x, y, test_size=0.25, random_state=40)\n",
    "\n",
    "# Initialize and train the Linear Regression model\n",
    "model = LinearRegression()\n",
    "model.fit(x_train, y_train)\n",
    "\n",
    "# Predict the target values for the test set\n",
    "y_pred = model.predict(x_test)\n",
    "\n",
    "# Print the intercept and coefficients of the model\n",
    "print(\"\\nModel Summary:\")\n",
    "print(f\"Intercept: {model.intercept_}\")\n",
    "print(f\"Coefficients: {model.coef_}\")\n",
    "\n",
    "# Print the Mean Squared Error of the predictions\n",
    "print(f\"\\nMean Squared Error (MSE): {mean_squared_error(y_test,y_pred)}\")\n",
    "\n",
    "# Creating new data with the same feature names\n",
    "feature_names = x_train.columns\n",
    "new_data = pd.DataFrame([[7420, 4, 2, 3, 1, 0, 0, 0, 1, 2, 1, 0]], columns=feature_names)\n",
    "\n",
    "# Predict the target value for a new data point\n",
    "y_pred1 = model.predict(new_data)\n",
    "print(f\"\\nPrediction for new data point {new_data.values} is : {y_pred1[0]:.2f}\")\n"
   ]
  }
 ],
 "metadata": {
  "kernelspec": {
   "display_name": "Python 3 (ipykernel)",
   "language": "python",
   "name": "python3"
  },
  "language_info": {
   "codemirror_mode": {
    "name": "ipython",
    "version": 3
   },
   "file_extension": ".py",
   "mimetype": "text/x-python",
   "name": "python",
   "nbconvert_exporter": "python",
   "pygments_lexer": "ipython3",
   "version": "3.8.10"
  }
 },
 "nbformat": 4,
 "nbformat_minor": 5
}
